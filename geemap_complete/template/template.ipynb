{
 "cells": [
  {
   "cell_type": "markdown",
   "id": "62d09a84-8534-4809-a92f-70d08eaa187a",
   "metadata": {},
   "source": [
    "[![Open In Colab](https://colab.research.google.com/assets/colab-badge.svg)](https://colab.research.google.com/github/giswqs/GEE-Courses/blob/master/docs/geemap_complete/template.ipynb)\n",
    "\n",
    "Uncomment and execute the following code block to install geemap if needed."
   ]
  },
  {
   "cell_type": "code",
   "execution_count": 1,
   "id": "3d0b9452-3e9a-4917-9682-668cf13651ba",
   "metadata": {},
   "outputs": [],
   "source": [
    "# !pip install geemap"
   ]
  },
  {
   "cell_type": "code",
   "execution_count": null,
   "id": "0d932039-c030-4284-a408-b5d36260fba4",
   "metadata": {},
   "outputs": [],
   "source": []
  }
 ],
 "metadata": {
  "kernelspec": {
   "display_name": "Python 3",
   "language": "python",
   "name": "python3"
  },
  "language_info": {
   "codemirror_mode": {
    "name": "ipython",
    "version": 3
   },
   "file_extension": ".py",
   "mimetype": "text/x-python",
   "name": "python",
   "nbconvert_exporter": "python",
   "pygments_lexer": "ipython3",
   "version": "3.9.12"
  }
 },
 "nbformat": 4,
 "nbformat_minor": 5
}
