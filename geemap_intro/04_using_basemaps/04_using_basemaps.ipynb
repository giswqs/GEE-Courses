{
 "cells": [
  {
   "cell_type": "markdown",
   "id": "cada1e35-5f40-4f1a-8b87-4b1169221c4c",
   "metadata": {},
   "source": [
    "[![Open In Colab](https://colab.research.google.com/assets/colab-badge.svg)](https://colab.research.google.com/github/giswqs/GEE-Courses/blob/master/docs/geemap_intro/04_using_basemaps.ipynb)\n",
    "\n",
    "You can specify the basemap when creating an interactive map. Alternatively, you can use the `Map.add_basemap()` function to add basemaps to an existing map.\n",
    "\n",
    "Uncomment and execute the following code block to install geemap if needed."
   ]
  },
  {
   "cell_type": "code",
   "execution_count": null,
   "id": "0c0a9729-2e54-4ade-81bd-d39e433f6201",
   "metadata": {},
   "outputs": [],
   "source": [
    "# !pip install geemap"
   ]
  },
  {
   "cell_type": "code",
   "execution_count": null,
   "id": "793d4c42-a53b-43c8-af83-3b578105eab9",
   "metadata": {},
   "outputs": [],
   "source": [
    "import geemap"
   ]
  },
  {
   "cell_type": "code",
   "execution_count": null,
   "id": "7a93b84e-fd76-4acc-88c3-e216a86da951",
   "metadata": {},
   "outputs": [],
   "source": [
    "Map = geemap.Map(basemap='HYBRID')\n",
    "Map"
   ]
  },
  {
   "cell_type": "code",
   "execution_count": null,
   "id": "8eb7621e-1b65-482f-a3cd-82a2ce99d53c",
   "metadata": {},
   "outputs": [],
   "source": [
    "Map = geemap.Map()\n",
    "Map.add_basemap('OpenTopoMap')\n",
    "Map"
   ]
  },
  {
   "cell_type": "markdown",
   "id": "78f9e6eb-e6c2-41ae-b46e-87ece517b601",
   "metadata": {},
   "source": [
    "Show available basemap options."
   ]
  },
  {
   "cell_type": "code",
   "execution_count": null,
   "id": "db8417a7-15c9-4a0e-9860-95910cbc61e2",
   "metadata": {},
   "outputs": [],
   "source": [
    "for basemap in geemap.basemaps.keys():\n",
    "    print(basemap)"
   ]
  },
  {
   "cell_type": "code",
   "execution_count": null,
   "id": "94276b95-ee1d-452d-84c5-ddb4d4cdc984",
   "metadata": {},
   "outputs": [],
   "source": [
    "len(geemap.basemaps)"
   ]
  },
  {
   "cell_type": "markdown",
   "id": "d06509d3-675f-4142-90ba-4dabb101af07",
   "metadata": {},
   "source": [
    "Changing basemaps interactively using the toolbar GUI.\n",
    "\n",
    "![](https://i.imgur.com/PXURCSP.png)"
   ]
  },
  {
   "cell_type": "code",
   "execution_count": null,
   "id": "b3b72d24-e9ee-423c-b22e-4508e53d7a76",
   "metadata": {},
   "outputs": [],
   "source": [
    "Map = geemap.Map()\n",
    "Map"
   ]
  }
 ],
 "metadata": {
  "kernelspec": {
   "display_name": "Python 3",
   "language": "python",
   "name": "python3"
  },
  "language_info": {
   "codemirror_mode": {
    "name": "ipython",
    "version": 3
   },
   "file_extension": ".py",
   "mimetype": "text/x-python",
   "name": "python",
   "nbconvert_exporter": "python",
   "pygments_lexer": "ipython3",
   "version": "3.9.12"
  }
 },
 "nbformat": 4,
 "nbformat_minor": 5
}
