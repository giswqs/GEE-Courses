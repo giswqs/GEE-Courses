{
 "cells": [
  {
   "cell_type": "markdown",
   "id": "a5b14bd6-6433-4b9d-89b2-feabcc4e7d9f",
   "metadata": {},
   "source": [
    "[![Open In Colab](https://colab.research.google.com/assets/colab-badge.svg)](https://colab.research.google.com/github/giswqs/GEE-Courses/blob/master/docs/geemap_intro/03_creating_maps.ipynb)\n",
    "\n",
    "## Introduction\n",
    "\n",
    "**Geemap** has six plotting backends, including [folium](https://github.com/python-visualization/folium), [ipyleaflet](https://github.com/jupyter-widgets/ipyleaflet), [plotly](https://plotly.com/), [pydeck](https://deckgl.readthedocs.io/en/latest/), [kepler.gl](https://docs.kepler.gl/docs/keplergl-jupyter), and [heremap](https://github.com/heremaps/here-map-widget-for-jupyter). An interactive map created using one of the plotting backends can be displayed in a Jupyter environment, such as Google Colab, Jupyter Notebook, and JupyterLab. By default, `import leafmap` will use the `ipyleaflet` plotting backend.\n",
    "\n",
    "The six plotting backends do not offer equal functionality. The `ipyleaflet` plotting backend provides the richest interactive functionality, including the custom toolset for loading, analyzing, and visualizing geospatial data interactively without coding. For example, users can add vector data (e.g., GeoJSON, Shapefile, KML, GeoDataFrame) and raster data (e.g., GeoTIFF, Cloud Optimized GeoTIFF [COG]) to the map with a few clicks (see Figure 1). Users can also perform geospatial analysis using the WhiteboxTools GUI with 468 geoprocessing tools directly within the map interface (see Figure 2). Other interactive functionality (e.g., split-panel map, linked map, time slider, time-series inspector) can also be useful for visualizing geospatial data. The `ipyleaflet` package is built upon `ipywidgets` and allows bidirectional communication between the front-end and the backend enabling the use of the map to capture user input ([source](https://blog.jupyter.org/interactive-gis-in-jupyter-with-ipyleaflet-52f9657fa7a)). In contrast, `folium` has relatively limited interactive functionality. It is meant for displaying static data only. Note that the aforementioned custom toolset and interactive functionality are not available for other plotting backends. Compared with `ipyleaflet` and `folium`, the `pydeck`,  `kepler.gl`, and `heremap` plotting backend provides some unique 3D mapping functionality. An [API key](https://developer.here.com/documentation/identity-access-management/dev_guide/topics/dev-apikey.html) from the [Here Developer Portal](https://developer.here.com/) is required to use `heremap`.\n",
    "\n",
    "To choose a specific plotting backend, use one of the following:\n",
    "\n",
    "-   `import leafmap.leafmap as leafmap`\n",
    "-   `import leafmap.foliumap as leafmap`\n",
    "-   `import leafmap.deck as leafmap`\n",
    "-   `import leafmap.kepler as leafmap`\n",
    "-   `import leafmap.plotlymap as leafmap`\n",
    "-   `import leafmap.heremap as leafmap`\n",
    "\n",
    "Uncomment and execute the following code block to install geemap if needed."
   ]
  },
  {
   "cell_type": "code",
   "execution_count": 1,
   "id": "28bc3f27-19fa-4a15-9928-6de9daa42b81",
   "metadata": {},
   "outputs": [],
   "source": [
    "# !pip install geemap"
   ]
  },
  {
   "cell_type": "markdown",
   "id": "298a61a0-1f96-4956-b1a0-32b0a117e776",
   "metadata": {},
   "source": [
    "## The ipyleaflet plotting backend\n",
    "\n",
    "You can simply use `geemap.Map()` to create the default map."
   ]
  },
  {
   "cell_type": "code",
   "execution_count": null,
   "id": "0fd46c93-c507-4c5b-aadc-a3dc1763441e",
   "metadata": {},
   "outputs": [],
   "source": [
    "import geemap"
   ]
  },
  {
   "cell_type": "code",
   "execution_count": null,
   "id": "70c090ca-4448-449a-bcfd-765326d3594e",
   "metadata": {},
   "outputs": [],
   "source": [
    "Map = geemap.Map()\n",
    "Map"
   ]
  },
  {
   "cell_type": "markdown",
   "id": "e7b2a136-72a2-4de6-a231-e72bf1781c8d",
   "metadata": {},
   "source": [
    "To customize the map, you can specify various parameters, such as `center` ([lat, lon]), `zoom`, `width`, and `height`."
   ]
  },
  {
   "cell_type": "code",
   "execution_count": null,
   "id": "5f59265c-f265-476c-9782-ade6d7a8c793",
   "metadata": {},
   "outputs": [],
   "source": [
    "Map = geemap.Map(center=[40, -100], zoom=4, height=600)\n",
    "Map"
   ]
  },
  {
   "cell_type": "markdown",
   "id": "55dba179-375d-4523-adf2-302988019559",
   "metadata": {},
   "source": [
    "You can also set the visibility of the controls, such as `data_ctrl`, `zoom_ctrl`, `fullscreen_ctrl`, `draw_ctrl`, `measure_ctrl`, `scale_ctrl`, `layer_ctrl`, `toolbar_ctrl`, and `attribution_ctrl`. You can also set `lite_mode=True` to only show the Zoom Control."
   ]
  },
  {
   "cell_type": "code",
   "execution_count": null,
   "id": "2f5c1a8d-2367-4ac2-9a83-3691a5bb3818",
   "metadata": {},
   "outputs": [],
   "source": [
    "Map = geemap.Map(data_ctrl=False, toolbar_ctrl=False, draw_ctrl=False)\n",
    "Map"
   ]
  },
  {
   "cell_type": "code",
   "execution_count": null,
   "id": "c17bae5b-b59e-43bb-a1ef-5644955eeea2",
   "metadata": {},
   "outputs": [],
   "source": [
    "Map = geemap.Map(lite_mode=True)\n",
    "Map"
   ]
  },
  {
   "cell_type": "markdown",
   "id": "6c8ac26b-22bc-4cbc-81bb-8a1771006896",
   "metadata": {},
   "source": [
    "## The folium plotting backend"
   ]
  },
  {
   "cell_type": "code",
   "execution_count": null,
   "id": "16bebba1-6e49-465a-bf68-977478d0662a",
   "metadata": {},
   "outputs": [],
   "source": [
    "import geemap.foliumap as geemap"
   ]
  },
  {
   "cell_type": "code",
   "execution_count": null,
   "id": "68123cc0-9e56-4919-b616-8c39755b773b",
   "metadata": {},
   "outputs": [],
   "source": [
    "Map = geemap.Map(height=600)\n",
    "Map"
   ]
  },
  {
   "cell_type": "markdown",
   "id": "00391077-6658-49dd-94e1-e2b656583fa4",
   "metadata": {},
   "source": [
    "## The plotly plotting backend"
   ]
  },
  {
   "cell_type": "code",
   "execution_count": null,
   "id": "117a49dc-e24c-4ced-be82-f4769171fb92",
   "metadata": {},
   "outputs": [],
   "source": [
    "import geemap.plotlymap as geemap"
   ]
  },
  {
   "cell_type": "code",
   "execution_count": null,
   "id": "36e66e37-730a-4419-9dfb-e19d8a4d4199",
   "metadata": {},
   "outputs": [],
   "source": [
    "Map = geemap.Map()\n",
    "Map"
   ]
  },
  {
   "cell_type": "markdown",
   "id": "f58cc601-0f92-419d-b6ca-35a8b3de18f4",
   "metadata": {},
   "source": [
    "## The pydeck plotting backend"
   ]
  },
  {
   "cell_type": "code",
   "execution_count": null,
   "id": "c0197fff-b5d6-456e-a428-d46844858621",
   "metadata": {},
   "outputs": [],
   "source": [
    "import geemap.deck as geemap"
   ]
  },
  {
   "cell_type": "code",
   "execution_count": null,
   "id": "79bbf3d4-ea9f-48e0-956d-6dcc085d52cd",
   "metadata": {},
   "outputs": [],
   "source": [
    "Map = geemap.Map()\n",
    "Map"
   ]
  },
  {
   "cell_type": "markdown",
   "id": "5bc7995c-235c-4196-bc89-8a4639855990",
   "metadata": {},
   "source": [
    "## The kerler.gl plotting backend"
   ]
  },
  {
   "cell_type": "code",
   "execution_count": null,
   "id": "625c569d-7ae6-43ff-a4a9-ed62d26f457a",
   "metadata": {},
   "outputs": [],
   "source": [
    "import geemap.kepler as geemap"
   ]
  },
  {
   "cell_type": "code",
   "execution_count": null,
   "id": "788c43c4-85a7-4622-8901-83a91e991bfd",
   "metadata": {},
   "outputs": [],
   "source": [
    "Map = geemap.Map()\n",
    "Map"
   ]
  },
  {
   "cell_type": "markdown",
   "id": "55d2a607-6353-4272-918e-247e07646d18",
   "metadata": {},
   "source": [
    "## The heremap plotting backend\n",
    "\n",
    "An [API key](https://developer.here.com/documentation/identity-access-management/dev_guide/topics/dev-apikey.html) from the [Here Developer Portal](https://developer.here.com/) is required to use `heremap`. "
   ]
  },
  {
   "cell_type": "code",
   "execution_count": null,
   "id": "32d176a6-255c-4d09-931e-c939a01b8230",
   "metadata": {},
   "outputs": [],
   "source": [
    "import os\n",
    "import geemap.heremap as geemap"
   ]
  },
  {
   "cell_type": "code",
   "execution_count": null,
   "id": "d5fbcad8-85ae-4e98-8e08-2cbe851eb2f1",
   "metadata": {},
   "outputs": [],
   "source": [
    "api_key = os.environ.get(\n",
    "    'HEREMAPS_API_KEY'\n",
    ")  # Provide your Heremap API key here if it is not set as an environment variable."
   ]
  },
  {
   "cell_type": "code",
   "execution_count": null,
   "id": "f0237c05-5db4-4f1e-a7ae-2b9be6e0e19b",
   "metadata": {},
   "outputs": [],
   "source": [
    "Map = geemap.Map(api_key)\n",
    "Map"
   ]
  }
 ],
 "metadata": {
  "kernelspec": {
   "display_name": "Python 3",
   "language": "python",
   "name": "python3"
  },
  "language_info": {
   "codemirror_mode": {
    "name": "ipython",
    "version": 3
   },
   "file_extension": ".py",
   "mimetype": "text/x-python",
   "name": "python",
   "nbconvert_exporter": "python",
   "pygments_lexer": "ipython3",
   "version": "3.9.12"
  }
 },
 "nbformat": 4,
 "nbformat_minor": 5
}
