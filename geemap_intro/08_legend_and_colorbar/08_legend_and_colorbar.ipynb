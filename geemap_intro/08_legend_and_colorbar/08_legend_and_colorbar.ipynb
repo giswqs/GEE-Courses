{
 "cells": [
  {
   "cell_type": "markdown",
   "id": "277e6289-d752-4715-87b0-d18833455509",
   "metadata": {},
   "source": [
    "[![Open In Colab](https://colab.research.google.com/assets/colab-badge.svg)](https://colab.research.google.com/github/giswqs/GEE-Courses/blob/master/docs/geemap_intro/08_legend_and_colorbar.ipynb)\n",
    "\n",
    "\n",
    "## Adding a legend\n",
    "\n",
    "Uncomment and execute the following code block to install geemap if needed."
   ]
  },
  {
   "cell_type": "code",
   "execution_count": 1,
   "id": "37028938-5a4e-4d9a-8e75-9497a5f640da",
   "metadata": {},
   "outputs": [],
   "source": [
    "# !pip install geemap"
   ]
  },
  {
   "cell_type": "code",
   "execution_count": 2,
   "id": "7e4879b8-a01e-47ae-a225-fbba49ce3185",
   "metadata": {},
   "outputs": [],
   "source": [
    "import ee\n",
    "import geemap"
   ]
  },
  {
   "cell_type": "markdown",
   "id": "81bed3ce-2366-478e-a137-53969c0e1ada",
   "metadata": {},
   "source": [
    "Show available built-in legends"
   ]
  },
  {
   "cell_type": "code",
   "execution_count": null,
   "id": "dc13c881-3233-465f-ac95-50edeadda305",
   "metadata": {},
   "outputs": [],
   "source": [
    "legends = geemap.builtin_legends\n",
    "for legend in legends:\n",
    "    print(legend)"
   ]
  },
  {
   "cell_type": "markdown",
   "id": "3aea02c7-50a2-489a-be11-5790559f848d",
   "metadata": {},
   "source": [
    "Add a built-in legend to the map."
   ]
  },
  {
   "cell_type": "code",
   "execution_count": null,
   "id": "78c7e805-3a14-41b4-bed9-78cba326c318",
   "metadata": {},
   "outputs": [],
   "source": [
    "Map = geemap.Map(center=[40, -100], zoom=4)\n",
    "Map.add_basemap('HYBRID')\n",
    "\n",
    "nlcd = ee.Image('USGS/NLCD_RELEASES/2019_REL/NLCD/2019')\n",
    "landcover = nlcd.select('landcover')\n",
    "\n",
    "Map.addLayer(landcover, {}, 'NLCD Land Cover 2019')\n",
    "Map.add_legend(legend_title=\"NLCD Land Cover Classification\", builtin_legend='NLCD')\n",
    "Map"
   ]
  },
  {
   "cell_type": "markdown",
   "id": "f389ed02-fc86-444b-9739-dbf1c5193c3e",
   "metadata": {},
   "source": [
    "Adding a custom legend by defining a legend dictionary with labels as keys and hex color codes as values."
   ]
  },
  {
   "cell_type": "code",
   "execution_count": null,
   "id": "3003c468-d9ef-4620-992d-012fdac564d1",
   "metadata": {},
   "outputs": [],
   "source": [
    "Map = geemap.Map(center=[40, -100], zoom=4)\n",
    "\n",
    "legend_dict = {\n",
    "    '11 Open Water': '466b9f',\n",
    "    '12 Perennial Ice/Snow': 'd1def8',\n",
    "    '21 Developed, Open Space': 'dec5c5',\n",
    "    '22 Developed, Low Intensity': 'd99282',\n",
    "    '23 Developed, Medium Intensity': 'eb0000',\n",
    "    '24 Developed High Intensity': 'ab0000',\n",
    "    '31 Barren Land (Rock/Sand/Clay)': 'b3ac9f',\n",
    "    '41 Deciduous Forest': '68ab5f',\n",
    "    '42 Evergreen Forest': '1c5f2c',\n",
    "    '43 Mixed Forest': 'b5c58f',\n",
    "    '51 Dwarf Scrub': 'af963c',\n",
    "    '52 Shrub/Scrub': 'ccb879',\n",
    "    '71 Grassland/Herbaceous': 'dfdfc2',\n",
    "    '72 Sedge/Herbaceous': 'd1d182',\n",
    "    '73 Lichens': 'a3cc51',\n",
    "    '74 Moss': '82ba9e',\n",
    "    '81 Pasture/Hay': 'dcd939',\n",
    "    '82 Cultivated Crops': 'ab6c28',\n",
    "    '90 Woody Wetlands': 'b8d9eb',\n",
    "    '95 Emergent Herbaceous Wetlands': '6c9fb8',\n",
    "}\n",
    "\n",
    "nlcd = ee.Image('USGS/NLCD_RELEASES/2019_REL/NLCD/2019')\n",
    "landcover = nlcd.select('landcover')\n",
    "\n",
    "Map.addLayer(landcover, {}, 'NLCD Land Cover 2019')\n",
    "Map.add_legend(legend_title=\"NLCD Land Cover Classification\", legend_dict=legend_dict)\n",
    "Map"
   ]
  },
  {
   "cell_type": "markdown",
   "id": "18d83705-3c3a-4e39-921e-ae16f3f01145",
   "metadata": {},
   "source": [
    "## Adding a colorbar"
   ]
  },
  {
   "cell_type": "markdown",
   "id": "77ece2be-f86c-469e-b0ce-ffe4b18b8012",
   "metadata": {},
   "source": [
    "Add data to the map."
   ]
  },
  {
   "cell_type": "code",
   "execution_count": 5,
   "id": "9ee7c8c2-2150-41d9-9a0f-445a376e1602",
   "metadata": {},
   "outputs": [
    {
     "data": {
      "application/vnd.jupyter.widget-view+json": {
       "model_id": "e294ba9e23de490db65eb8836f213a5a",
       "version_major": 2,
       "version_minor": 0
      },
      "text/plain": [
       "Map(center=[20, 0], controls=(WidgetControl(options=['position', 'transparent_bg'], widget=HBox(children=(Togg…"
      ]
     },
     "metadata": {},
     "output_type": "display_data"
    }
   ],
   "source": [
    "Map = geemap.Map()\n",
    "\n",
    "dem = ee.Image('USGS/SRTMGL1_003')\n",
    "vis_params = {\n",
    "    'min': 0,\n",
    "    'max': 4000,\n",
    "    'palette': ['006633', 'E5FFCC', '662A00', 'D8D8D8', 'F5F5F5'],\n",
    "}\n",
    "\n",
    "Map.addLayer(dem, vis_params, 'SRTM DEM')\n",
    "\n",
    "Map"
   ]
  },
  {
   "cell_type": "markdown",
   "id": "f6ed30db-2209-4f6e-b8aa-1f28b5a03662",
   "metadata": {},
   "source": [
    "Add a horizontal colorbar to the map."
   ]
  },
  {
   "cell_type": "code",
   "execution_count": 6,
   "id": "7eb4ec05-e31a-4fd0-9cd3-d278ea6d839e",
   "metadata": {},
   "outputs": [],
   "source": [
    "Map.add_colorbar(vis_params, label=\"Elevation (m)\", layer_name=\"SRTM DEM\")"
   ]
  },
  {
   "cell_type": "markdown",
   "id": "12865370-6193-416e-90c0-b00ea11e2cc7",
   "metadata": {},
   "source": [
    "Add a vertical colorbar the map. Note that the colorbar is tied to the layer name. Note that the previously added colorbar with the same layer name will be replaced with the new colorbar."
   ]
  },
  {
   "cell_type": "code",
   "execution_count": 7,
   "id": "75e0da2b-8b73-4022-affa-7e280d33f032",
   "metadata": {},
   "outputs": [],
   "source": [
    "Map.add_colorbar(\n",
    "    vis_params, label=\"Elevation (m)\", layer_name=\"SRTM DEM\", orientation=\"vertical\"\n",
    ")"
   ]
  },
  {
   "cell_type": "markdown",
   "id": "702f63e2-148e-4404-b772-3788af2a1fc2",
   "metadata": {},
   "source": [
    "Make the colorbar background transparent."
   ]
  },
  {
   "cell_type": "code",
   "execution_count": 8,
   "id": "02158725-5159-4455-820f-070b85dbe3c8",
   "metadata": {},
   "outputs": [],
   "source": [
    "Map.add_colorbar(\n",
    "    vis_params,\n",
    "    label=\"Elevation (m)\",\n",
    "    layer_name=\"SRTM DEM\",\n",
    "    orientation=\"vertical\",\n",
    "    transparent_bg=True,\n",
    ")"
   ]
  },
  {
   "cell_type": "markdown",
   "id": "cd54ad58-6012-45ca-ae1b-b2537e4c29c0",
   "metadata": {},
   "source": [
    "Add a discreate colorbar."
   ]
  },
  {
   "cell_type": "code",
   "execution_count": 10,
   "id": "5db9cf2e-a8c4-4c38-99c2-3fed3457c1bf",
   "metadata": {},
   "outputs": [
    {
     "data": {
      "application/vnd.jupyter.widget-view+json": {
       "model_id": "e294ba9e23de490db65eb8836f213a5a",
       "version_major": 2,
       "version_minor": 0
      },
      "text/plain": [
       "Map(bottom=818.0, center=[-2.108898659243126, 62.40234375000001], controls=(WidgetControl(options=['position',…"
      ]
     },
     "metadata": {},
     "output_type": "display_data"
    }
   ],
   "source": [
    "Map.add_colorbar(\n",
    "    vis_params,\n",
    "    label=\"Elevation (m)\",\n",
    "    layer_name=\"SRTM DEM\",\n",
    "    orientation=\"vertical\",\n",
    "    transparent_bg=True,\n",
    "    discrete=True,\n",
    ")\n",
    "Map"
   ]
  }
 ],
 "metadata": {
  "kernelspec": {
   "display_name": "Python 3",
   "language": "python",
   "name": "python3"
  },
  "language_info": {
   "codemirror_mode": {
    "name": "ipython",
    "version": 3
   },
   "file_extension": ".py",
   "mimetype": "text/x-python",
   "name": "python",
   "nbconvert_exporter": "python",
   "pygments_lexer": "ipython3",
   "version": "3.9.12"
  }
 },
 "nbformat": 4,
 "nbformat_minor": 5
}
