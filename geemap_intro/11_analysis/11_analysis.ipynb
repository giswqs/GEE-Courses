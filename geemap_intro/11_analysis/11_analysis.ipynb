{
 "cells": [
  {
   "cell_type": "markdown",
   "id": "449676de-2932-45bc-aad3-0c914b3cb8ba",
   "metadata": {},
   "source": [
    "[![Open In Colab](https://colab.research.google.com/assets/colab-badge.svg)](https://colab.research.google.com/github/giswqs/GEE-Courses/blob/master/docs/geemap_intro/11_analysis.ipynb)\n",
    "\n",
    "## Descriptive statistics\n",
    "\n",
    "Uncomment and execute the following code block to install geemap if needed."
   ]
  },
  {
   "cell_type": "code",
   "execution_count": null,
   "id": "3e5717a8-b6d5-47b3-833b-f54c3a4c3eda",
   "metadata": {},
   "outputs": [],
   "source": [
    "# !pip install geemap"
   ]
  },
  {
   "cell_type": "code",
   "execution_count": null,
   "id": "817ff516-d002-4383-95ec-1af49e3cabaa",
   "metadata": {},
   "outputs": [],
   "source": [
    "import ee\n",
    "import geemap"
   ]
  },
  {
   "cell_type": "code",
   "execution_count": null,
   "id": "35fdabd8-5a6f-4ad3-9159-6a956d5fb6ff",
   "metadata": {},
   "outputs": [],
   "source": [
    "Map = geemap.Map()\n",
    "\n",
    "centroid = ee.Geometry.Point([-122.4439, 37.7538])\n",
    "\n",
    "image = ee.ImageCollection('LANDSAT/LC08/C01/T1_SR').filterBounds(centroid).first()\n",
    "\n",
    "vis = {'min': 0, 'max': 3000, 'bands': ['B5', 'B4', 'B3']}\n",
    "\n",
    "Map.centerObject(centroid, 8)\n",
    "Map.addLayer(image, vis, \"Landsat-8\")\n",
    "Map"
   ]
  },
  {
   "cell_type": "markdown",
   "id": "45c4223c-28d1-4f60-ad03-f55c73e2829a",
   "metadata": {},
   "source": [
    "Using Earth Engine built-in functions to get image properties."
   ]
  },
  {
   "cell_type": "code",
   "execution_count": null,
   "id": "290d6023-ca34-4693-aff5-2668eaea2446",
   "metadata": {},
   "outputs": [],
   "source": [
    "image.propertyNames().getInfo()"
   ]
  },
  {
   "cell_type": "code",
   "execution_count": null,
   "id": "689fda14-2f94-4279-98ae-5fbf3650067e",
   "metadata": {},
   "outputs": [],
   "source": [
    "image.get('CLOUD_COVER').getInfo()"
   ]
  },
  {
   "cell_type": "markdown",
   "id": "9f6a6a63-e716-4ff5-9a76-1440a47d75ab",
   "metadata": {},
   "source": [
    "Using `geemap.image_props()` to get image properties."
   ]
  },
  {
   "cell_type": "code",
   "execution_count": null,
   "id": "5d228fff-a310-49dd-9ee7-bef538aa9a62",
   "metadata": {},
   "outputs": [],
   "source": [
    "props = geemap.image_props(image)\n",
    "props.getInfo()"
   ]
  },
  {
   "cell_type": "markdown",
   "id": "f9ce6fc2-5af9-42e8-b9a1-ccdccaa2dca4",
   "metadata": {},
   "source": [
    "Get image summary statistics, such as max, min, mean, std, sum."
   ]
  },
  {
   "cell_type": "code",
   "execution_count": null,
   "id": "df48474b-bbf1-4981-8a49-9221389d4833",
   "metadata": {},
   "outputs": [],
   "source": [
    "stats = geemap.image_stats(image, scale=90)\n",
    "stats.getInfo()"
   ]
  },
  {
   "cell_type": "markdown",
   "id": "9ba2c619-1635-4f1c-ae87-f4dbc9dbcc75",
   "metadata": {},
   "source": [
    "## Zonal statistics\n",
    "\n",
    "Add Earth Engine datasets."
   ]
  },
  {
   "cell_type": "code",
   "execution_count": null,
   "id": "070b7530-39a1-43ad-94a7-1618009ab73e",
   "metadata": {},
   "outputs": [],
   "source": [
    "Map = geemap.Map(center=[40, -100], zoom=4)\n",
    "\n",
    "# Add Earth Engine dataset\n",
    "dem = ee.Image('USGS/SRTMGL1_003')\n",
    "\n",
    "# Set visualization parameters.\n",
    "dem_vis = {\n",
    "    'min': 0,\n",
    "    'max': 4000,\n",
    "    'palette': ['006633', 'E5FFCC', '662A00', 'D8D8D8', 'F5F5F5'],\n",
    "}\n",
    "\n",
    "# Add Earth Engine DEM to map\n",
    "Map.addLayer(dem, dem_vis, 'SRTM DEM')\n",
    "\n",
    "# Add Landsat data to map\n",
    "landsat = ee.Image('LE7_TOA_5YEAR/1999_2003')\n",
    "\n",
    "landsat_vis = {'bands': ['B4', 'B3', 'B2'], 'gamma': 1.4}\n",
    "Map.addLayer(landsat, landsat_vis, \"LE7_TOA_5YEAR/1999_2003\")\n",
    "\n",
    "states = ee.FeatureCollection(\"TIGER/2018/States\")\n",
    "Map.addLayer(states, {}, 'US States')\n",
    "Map"
   ]
  },
  {
   "cell_type": "markdown",
   "id": "ee3c352d-7ffb-4cfd-9428-b4869b3c1867",
   "metadata": {},
   "source": [
    "Computer zonal statistics. \n",
    "- Allowed output formats: csv, shp, json, kml, kmz\n",
    "- Allowed statistics type: MEAN, MAXIMUM, MINIMUM, MEDIAN, STD, MIN_MAX, VARIANCE, SUM"
   ]
  },
  {
   "cell_type": "code",
   "execution_count": null,
   "id": "c2cb4c93-3265-4087-9199-d1deb8817742",
   "metadata": {},
   "outputs": [],
   "source": [
    "out_dem_stats = 'dem_stats.csv'\n",
    "geemap.zonal_statistics(dem, states, out_dem_stats, statistics_type='MEAN', scale=1000)"
   ]
  },
  {
   "cell_type": "code",
   "execution_count": null,
   "id": "98a1e384-b96d-44dc-8f51-a081c5429d33",
   "metadata": {},
   "outputs": [],
   "source": [
    "out_landsat_stats = 'landsat_stats.csv'\n",
    "geemap.zonal_statistics(\n",
    "    landsat, states, out_landsat_stats, statistics_type='SUM', scale=1000\n",
    ")"
   ]
  },
  {
   "cell_type": "markdown",
   "id": "12e93f6b-07dd-4730-9ece-f94a4a58f088",
   "metadata": {},
   "source": [
    "## Zonal statistics by group\n",
    "\n",
    "Add Earth Engine datasets."
   ]
  },
  {
   "cell_type": "code",
   "execution_count": null,
   "id": "66dc8344-de85-4ce2-87ac-86d6e9446de6",
   "metadata": {},
   "outputs": [],
   "source": [
    "Map = geemap.Map(center=[40, -100], zoom=4)\n",
    "\n",
    "dataset = ee.Image('USGS/NLCD_RELEASES/2019_REL/NLCD/2019')\n",
    "landcover = dataset.select('landcover')\n",
    "Map.addLayer(landcover, {}, 'NLCD 2019')\n",
    "\n",
    "states = ee.FeatureCollection(\"TIGER/2018/States\")\n",
    "Map.addLayer(states, {}, 'US States')\n",
    "Map.add_legend(builtin_legend='NLCD')\n",
    "Map"
   ]
  },
  {
   "cell_type": "markdown",
   "id": "bbb70bb6-3061-4956-9e9a-e86e55a64d8b",
   "metadata": {},
   "source": [
    "Computer zonal statistics by group.\n",
    "- statistics_type can be either 'SUM' or 'PERCENTAGE'\n",
    "- denominator can be used to convert square meters to other areal units, such as square kilimeters."
   ]
  },
  {
   "cell_type": "code",
   "execution_count": null,
   "id": "78c436d7-27cf-46e1-85e8-a80593af0caa",
   "metadata": {},
   "outputs": [],
   "source": [
    "nlcd_stats = 'nlcd_stats.csv'\n",
    "\n",
    "geemap.zonal_statistics_by_group(\n",
    "    landcover,\n",
    "    states,\n",
    "    nlcd_stats,\n",
    "    statistics_type='SUM',\n",
    "    denominator=1000000,\n",
    "    decimal_places=2,\n",
    ")"
   ]
  }
 ],
 "metadata": {
  "kernelspec": {
   "display_name": "Python 3",
   "language": "python",
   "name": "python3"
  },
  "language_info": {
   "codemirror_mode": {
    "name": "ipython",
    "version": 3
   },
   "file_extension": ".py",
   "mimetype": "text/x-python",
   "name": "python",
   "nbconvert_exporter": "python",
   "pygments_lexer": "ipython3",
   "version": "3.9.12"
  }
 },
 "nbformat": 4,
 "nbformat_minor": 5
}
