{
 "cells": [
  {
   "cell_type": "markdown",
   "id": "ad1e9b17-3e9c-4cdd-9085-e6de5b66e444",
   "metadata": {},
   "source": [
    "# Timeseries inspector"
   ]
  },
  {
   "cell_type": "code",
   "execution_count": null,
   "id": "b531e9ee-d338-423f-a8af-b423c5441192",
   "metadata": {},
   "outputs": [],
   "source": [
    "import ee\n",
    "import geemap"
   ]
  },
  {
   "cell_type": "markdown",
   "id": "09bcaa76-74e6-4c71-bc41-6c71ef00a538",
   "metadata": {},
   "source": [
    "Create an interactive map."
   ]
  },
  {
   "cell_type": "code",
   "execution_count": null,
   "id": "9df3da15-4c83-4b9e-9f2d-3b4a085ea92a",
   "metadata": {},
   "outputs": [],
   "source": [
    "Map = geemap.Map(center=[46.9896, -99.7119], zoom=11)\n",
    "Map"
   ]
  },
  {
   "cell_type": "markdown",
   "id": "dc1fc63b-66f3-4173-931a-7f2ee04a62f5",
   "metadata": {},
   "source": [
    "Set up a user ROI."
   ]
  },
  {
   "cell_type": "code",
   "execution_count": null,
   "id": "00321016-43f6-402b-af74-f021ba247884",
   "metadata": {},
   "outputs": [],
   "source": [
    "if Map.user_roi is None:\n",
    "    roi = ee.Geometry.Polygon([[[-99.924088, 46.87005],\n",
    "   [-99.924088, 47.092566],\n",
    "   [-99.41391, 47.092566],\n",
    "   [-99.41391, 46.87005],\n",
    "   [-99.924088, 46.87005]]])\n",
    "else:\n",
    "    roi = Map.user_roi"
   ]
  },
  {
   "cell_type": "markdown",
   "id": "a326eba3-678d-4178-a4c6-e09af39059ef",
   "metadata": {},
   "source": [
    "Create a timeseries ImageCollection."
   ]
  },
  {
   "cell_type": "code",
   "execution_count": null,
   "id": "a022d697-b089-4a12-a5c2-4d658970b254",
   "metadata": {},
   "outputs": [],
   "source": [
    "naip_ts = geemap.naip_timeseries(roi=roi, start_year=2009, end_year=2021)"
   ]
  },
  {
   "cell_type": "markdown",
   "id": "d4052b0e-662a-4085-a75d-8c5271857363",
   "metadata": {},
   "source": [
    "Create a list of layer names to be used in the dropdow menu."
   ]
  },
  {
   "cell_type": "code",
   "execution_count": null,
   "id": "54d74b49-4b17-4e65-b111-98ef743a0ffe",
   "metadata": {},
   "outputs": [],
   "source": [
    "dates = naip_ts.aggregate_array('system:time_start')\n",
    "layer_names = dates.map(lambda x: ee.Date(x).format(\"YYYY\")).getInfo()\n",
    "layer_names"
   ]
  },
  {
   "cell_type": "markdown",
   "id": "e76807c2-cce8-4424-90d3-bd2e5287bf28",
   "metadata": {},
   "source": [
    "Specify visualization parameters."
   ]
  },
  {
   "cell_type": "code",
   "execution_count": null,
   "id": "01b32d18-97cf-4774-9221-1265c95e7905",
   "metadata": {},
   "outputs": [],
   "source": [
    "naip_vis = {'bands': ['N', 'R', 'G']}"
   ]
  },
  {
   "cell_type": "markdown",
   "id": "9da7da0e-1b37-4d97-ba26-b4120d0b7488",
   "metadata": {},
   "source": [
    "Add the timeseries inspector to the map. Select the dropdown list to choose layers to display on the map."
   ]
  },
  {
   "cell_type": "code",
   "execution_count": null,
   "id": "abeae2c4-ba55-40f1-a15f-1fb77f558040",
   "metadata": {},
   "outputs": [],
   "source": [
    "Map.ts_inspector(\n",
    "    left_ts=naip_ts,\n",
    "    right_ts=naip_ts,\n",
    "    left_names=layer_names,\n",
    "    right_names=layer_names,\n",
    "    left_vis=naip_vis,\n",
    "    right_vis=naip_vis,\n",
    "    width='110px'\n",
    ")\n",
    "Map"
   ]
  }
 ],
 "metadata": {
  "kernelspec": {
   "display_name": "Python 3",
   "language": "python",
   "name": "python3"
  },
  "language_info": {
   "codemirror_mode": {
    "name": "ipython",
    "version": 3
   },
   "file_extension": ".py",
   "mimetype": "text/x-python",
   "name": "python",
   "nbconvert_exporter": "python",
   "pygments_lexer": "ipython3",
   "version": "3.9.12"
  }
 },
 "nbformat": 4,
 "nbformat_minor": 5
}
