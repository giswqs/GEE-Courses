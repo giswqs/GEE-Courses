{
 "cells": [
  {
   "cell_type": "markdown",
   "id": "bd2e3153-abf6-4892-b371-e4215904aa12",
   "metadata": {},
   "source": [
    "## Introduction\n",
    "\n",
    "Earth Engine has two fundamental data types: `Image` for raster data and `Geometry` for vector data.\n",
    "\n",
    "- `Image`: the fundamental raster data type in Earth Engine.\n",
    "- `ImageCollection`: a stack or time-series of images.\n",
    "- `Geometry`: the fundamental vector data type in Earth Engine.\n",
    "- `Feature`: a Geometry with attributes.\n",
    "- `FeatureCollection`: a set of features.\n",
    "\n",
    "## Loading Earth Engine datasets\n",
    "\n",
    "Earth Engine datasets can be found at https://developers.google.com/earth-engine/datasets."
   ]
  },
  {
   "cell_type": "code",
   "execution_count": null,
   "id": "ca2449e1-6198-4f1e-bd11-2de07cd77e9b",
   "metadata": {},
   "outputs": [],
   "source": [
    "import ee\n",
    "import geemap"
   ]
  },
  {
   "cell_type": "code",
   "execution_count": null,
   "id": "54f6aa38-6cb8-4789-8d1e-7a7763a6ed53",
   "metadata": {},
   "outputs": [],
   "source": [
    "Map = geemap.Map()\n",
    "\n",
    "# Add Earth Engine datasets\n",
    "dem = ee.Image('USGS/SRTMGL1_003')\n",
    "landsat7 = ee.Image('LE7_TOA_5YEAR/1999_2003')\n",
    "states = ee.FeatureCollection(\"TIGER/2018/States\")\n",
    "\n",
    "# Set visualization parameters.\n",
    "vis_params = {\n",
    "    'min': 0,\n",
    "    'max': 4000,\n",
    "    'palette': ['006633', 'E5FFCC', '662A00', 'D8D8D8', 'F5F5F5'],\n",
    "}\n",
    "\n",
    "# Add Earth Eninge layers to Map\n",
    "Map.addLayer(dem, vis_params, 'SRTM DEM', True, 0.5)\n",
    "Map.addLayer(\n",
    "    landsat7,\n",
    "    {'bands': ['B4', 'B3', 'B2'], 'min': 20, 'max': 200, 'gamma': 1.5},\n",
    "    'Landsat 7',\n",
    ")\n",
    "Map.addLayer(states, {}, \"US States\")\n",
    "\n",
    "Map"
   ]
  },
  {
   "cell_type": "markdown",
   "id": "e07c7bbd-6898-44ad-9f34-f941fdf36abf",
   "metadata": {},
   "source": [
    "## Searching the Earth Engine Data Catalog\n",
    "\n",
    "![](https://i.imgur.com/XYIIBbh.png)"
   ]
  },
  {
   "cell_type": "code",
   "execution_count": null,
   "id": "5ff54d42-447e-4dbf-87e2-16576a7b4b2c",
   "metadata": {},
   "outputs": [],
   "source": [
    "Map = geemap.Map()\n",
    "Map"
   ]
  },
  {
   "cell_type": "markdown",
   "id": "4477ed66-0e45-4793-b70e-0aab3af6eed5",
   "metadata": {},
   "source": [
    "## Using the datasets module"
   ]
  },
  {
   "cell_type": "code",
   "execution_count": null,
   "id": "127218e1-97ee-4c1e-8170-aa001e9b880a",
   "metadata": {},
   "outputs": [],
   "source": [
    "from geemap.datasets import DATA"
   ]
  },
  {
   "cell_type": "code",
   "execution_count": null,
   "id": "27257674-cecc-44e3-a283-745ac2911767",
   "metadata": {},
   "outputs": [],
   "source": [
    "Map = geemap.Map()\n",
    "\n",
    "dem = ee.Image(DATA.USGS_SRTMGL1_003)\n",
    "\n",
    "vis_params = {\n",
    "    'min': 0,\n",
    "    'max': 4000,\n",
    "    'palette': ['006633', 'E5FFCC', '662A00', 'D8D8D8', 'F5F5F5'],\n",
    "}\n",
    "\n",
    "Map.addLayer(dem, vis_params, 'SRTM DEM')\n",
    "Map"
   ]
  }
 ],
 "metadata": {
  "kernelspec": {
   "display_name": "Python 3",
   "language": "python",
   "name": "python3"
  },
  "language_info": {
   "codemirror_mode": {
    "name": "ipython",
    "version": 3
   },
   "file_extension": ".py",
   "mimetype": "text/x-python",
   "name": "python",
   "nbconvert_exporter": "python",
   "pygments_lexer": "ipython3",
   "version": "3.9.10"
  }
 },
 "nbformat": 4,
 "nbformat_minor": 5
}
